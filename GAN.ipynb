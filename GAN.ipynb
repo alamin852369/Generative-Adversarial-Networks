{
  "nbformat": 4,
  "nbformat_minor": 0,
  "metadata": {
    "colab": {
      "name": "GAN_3.ipynb",
      "provenance": [],
      "collapsed_sections": []
    },
    "kernelspec": {
      "name": "python3",
      "display_name": "Python 3"
    },
    "language_info": {
      "name": "python"
    }
  },
  "cells": [
    {
      "cell_type": "code",
      "metadata": {
        "id": "2HpiU_eseoqy"
      },
      "source": [
        "from keras.datasets import mnist\n",
        "from keras.layers import Input, Dense, Reshape, Flatten\n",
        "from keras.layers import BatchNormalization\n",
        "from keras.layers.advanced_activations import LeakyReLU\n",
        "from keras.models import Sequential, Model\n",
        "from keras.optimizers import Adam\n",
        "import matplotlib.pyplot as plt\n",
        "import numpy as np\n",
        "\n",
        "img_rows = 28\n",
        "img_cols = 28\n",
        "channels = 1\n",
        "img_shape = (img_rows, img_cols, channels)"
      ],
      "execution_count": 13,
      "outputs": []
    },
    {
      "cell_type": "code",
      "metadata": {
        "id": "XMUqAxWVg_Rr"
      },
      "source": [
        "def build_generator():\n",
        "  noise_shape = (100,)\n",
        "\n",
        "  model = Sequential()\n",
        "\n",
        "  model.add(Dense(256, input_shape = noise_shape))\n",
        "  model.add(LeakyReLU(alpha = 0.2))\n",
        "  model.add(Dense(512, input_shape = noise_shape))\n",
        "  model.add(LeakyReLU(alpha = 0.2))\n",
        "  model.add(Dense(1024, input_shape = noise_shape))\n",
        "  model.add(LeakyReLU(alpha = 0.2))\n",
        "  model.add(Dense(256, input_shape = noise_shape))\n",
        "  model.add(LeakyReLU(alpha = 0.2))\n",
        "  model.add(BatchNormalization(momentum = 0.8))\n",
        "\n",
        "  model.add(Dense(np.prod(img_shape), activation = 'tanh'))\n",
        "  model.add(Reshape(img_shape))\n",
        "\n",
        "  model.summary()\n",
        "\n",
        "  noise = Input(shape = noise_shape)\n",
        "  #print(noise)\n",
        "  img = model(noise)\n",
        "  #print(img)\n",
        "  return Model(noise, img)"
      ],
      "execution_count": 14,
      "outputs": []
    },
    {
      "cell_type": "code",
      "metadata": {
        "id": "BjW7Ea85kCa5"
      },
      "source": [
        "def build_discriminator():\n",
        "\n",
        "  model = Sequential()\n",
        "\n",
        "  model.add(Flatten(input_shape = img_shape))\n",
        "  model.add(Dense(512))\n",
        "  model.add(LeakyReLU(alpha = 0.2))\n",
        "  model.add(Dense(256))\n",
        "  model.add(LeakyReLU(alpha = 0.2))\n",
        "  model.add(Dense(1, activation = 'sigmoid'))\n",
        "  model.summary()\n",
        "\n",
        "  img = Input(shape = img_shape)\n",
        "  #print(img)\n",
        "  validity = model(img)\n",
        "  #print(validity)\n",
        "  return Model(img, validity)\n",
        "  #Model return input & output sizes of model."
      ],
      "execution_count": 15,
      "outputs": []
    },
    {
      "cell_type": "code",
      "metadata": {
        "id": "paA-BmS5pPty"
      },
      "source": [
        "def train(epochs, batch_size = 128, save_interval = 100):\n",
        "  (X_train, _), (_,_) = mnist.load_data()\n",
        "  X_train = (X_train.astype(np.float32) - 127.5) / 127.5\n",
        "\n",
        "  X_train = np.expand_dims(X_train, axis = 3)\n",
        "  half_batch = int(batch_size / 2)\n",
        "\n",
        "  for epoch in range(epochs):\n",
        "    idx = np.random.randint(0, X_train.shape[0], half_batch)\n",
        "    imgs = X_train[idx]\n",
        "    noise = np.random.normal(0,1, (half_batch, 100))\n",
        "    gen_imgs = generator.predict(noise)\n",
        "    #From input(100,) to output(28*28) of 64 datas\n",
        "\n",
        "    d_loss_real = discriminator.train_on_batch(imgs, np.ones((half_batch, 1)))\n",
        "\n",
        "    d_loss_fake = discriminator.train_on_batch(gen_imgs, np.zeros((half_batch, 1)))\n",
        "\n",
        "    d_loss = 0.5 * np.add(d_loss_real, d_loss_fake)\n",
        "\n",
        "    noise = np.random.normal(0, 1, (batch_size, 100))\n",
        "    valid_y = np.array([1] * batch_size)\n",
        "\n",
        "    g_loss = combined.train_on_batch(noise, valid_y)\n",
        "\n",
        "    #print(\"%d [D loss: %f, acc.: %.2f%%] [G loss: %f]\" % (epoch, d_loss[0], 100*d_loss[1], g_loss))\n",
        "    if epoch % save_interval == 0:\n",
        "      save_imgs(epoch)"
      ],
      "execution_count": 27,
      "outputs": []
    },
    {
      "cell_type": "code",
      "metadata": {
        "id": "Cxjj4xg5rPBB"
      },
      "source": [
        "def save_imgs(epoch):\n",
        "  r, c = 5, 5\n",
        "  noise = np.random.normal(0,1, (r * c, 100))\n",
        "  gen_imgs = generator.predict(noise)\n",
        "\n",
        "  #Rescale images 0-1\n",
        "  gen_imgs = 0.5 * gen_imgs + 0.5\n",
        "\n",
        "  fig, axs = plt.subplots(r,c)\n",
        "  cnt = 0\n",
        "\n",
        "  for i in range(r):\n",
        "    for j in range(c):\n",
        "\n",
        "      axs[i,j].imshow(gen_imgs[cnt, :, :, 0], cmap='gray')\n",
        "      axs[i, j].axis('off')\n",
        "      cnt += 1\n",
        "\n",
        "  fig.savefig(\"/content/drive/MyDrive/GAN_2/f_2/mnist_%d.png\" % epoch)\n",
        "  plt.close()\n",
        "  import cv2\n",
        "  import imutils\n",
        "  image =  cv2.imread(r\"/content/drive/MyDrive/GAN_2/f_2/mnist_%d.png\" % epoch)\n",
        "  from google.colab.patches import cv2_imshow\n",
        "  cv2_imshow(image)\n",
        "\n",
        "#This function saves our images for us to view"
      ],
      "execution_count": 28,
      "outputs": []
    },
    {
      "cell_type": "code",
      "metadata": {
        "id": "Ndhpd2eVwfhD"
      },
      "source": [
        "optimizer = Adam(0.0002, 0.5)\n",
        "\n",
        "discriminator = build_discriminator()\n",
        "discriminator.compile(loss = 'binary_crossentropy',\n",
        "                      optimizer = optimizer,\n",
        "                      metrics = ['accuracy'])\n",
        "\n",
        "#build and compile our Discrimator, pick the loss function\n",
        "\n",
        "#SInce we are only generating (faking) images, let us not track any metrics.\n",
        "generator = build_generator()\n",
        "generator.compile(loss = 'binary_crossentropy', optimizer = optimizer)\n",
        "\n",
        "##This builds the Generator and defines the input noise. \n",
        "#In a GAN the Generator network takes noise z as an input to produce its images\n",
        "z = Input(shape = (100,))\n",
        "img = generator(z)\n",
        "\n",
        "\n",
        "#This ensures that when we combine our networks we only train the Generator.\n",
        "#While generator training we do not want discriminator weights to be adjusted. \n",
        "#This Doesn't affect the above descriminator training.\n",
        "discriminator.trainable = False\n",
        "\n",
        "\n",
        "#This specifies that our Discriminator will take the images generated by our Generator\n",
        "#and true dataset and set its output to a parameter called valid, which will indicate\n",
        "#whether the input is real or not.\n",
        "\n",
        "valid = discriminator(img) #Validity check on the generated image\n",
        "\n",
        "#Here we combined the models and also set our loss function and optimizer. \n",
        "#Again, we are only training the generator here. \n",
        "#The ultimate goal here is for the Generator to fool the Discriminator.  \n",
        "# The combined model  (stacked generator and discriminator) takes\n",
        "# noise as input => generates images => determines validity\n",
        "\n",
        "combined = Model(z, valid)\n",
        "combined.compile(loss = 'binary_crossentropy', optimizer = optimizer)\n",
        "\n",
        "train(epochs = 50000, batch_size = 32, save_interval = 100)\n",
        "\n",
        "#Save model for future use to generate fake images\n",
        "#Not tested yet... make sure right model is being saved..\n",
        "#Compare with GAN4\n",
        "\n",
        "generator.save('generator_model.h5') #Test the model on GAN4_predict...\n",
        "#Change epochs back to 30K\n",
        "                \n",
        "#Epochs dictate the number of backward and forward propagations, the batch_size\n",
        "#indicates the number of training samples per backward/forward propagation, and the\n",
        "#sample_interval specifies after how many epochs we call our sample_image function.\n",
        "\n",
        "\n",
        "\n"
      ],
      "execution_count": null,
      "outputs": []
    },
    {
      "cell_type": "code",
      "metadata": {
        "colab": {
          "base_uri": "https://localhost:8080/",
          "height": 305
        },
        "id": "i5GPQuOncLMu",
        "outputId": "c5c83b67-7b6d-44d8-c44f-38e73455231c"
      },
      "source": [
        "import cv2\n",
        "import imutils\n",
        "image =  cv2.imread(r\"/content/drive/MyDrive/GAN_2/f_2/mnist_%d.png\" % 44900)\n",
        "from google.colab.patches import cv2_imshow\n",
        "cv2_imshow(image)"
      ],
      "execution_count": 46,
      "outputs": [
        {
          "output_type": "display_data",
          "data": {
            "image/png": "[encoded data removed]",
            "text/plain": [
              "<PIL.Image.Image image mode=RGB size=432x288 at 0x7F08E1BA72D0>"
            ]
          },
          "metadata": {
            "tags": []
          }
        }
      ]
    }
  ]
}